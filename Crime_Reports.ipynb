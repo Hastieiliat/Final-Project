{
  "nbformat": 4,
  "nbformat_minor": 0,
  "metadata": {
    "colab": {
      "name": "Crime_Reports.ipynb",
      "provenance": [],
      "collapsed_sections": [],
      "authorship_tag": "ABX9TyOKIe+sFSgjWJIU7rBdf6dL",
      "include_colab_link": true
    },
    "kernelspec": {
      "name": "python3",
      "display_name": "Python 3"
    },
    "language_info": {
      "name": "python"
    }
  },
  "cells": [
    {
      "cell_type": "markdown",
      "metadata": {
        "id": "view-in-github",
        "colab_type": "text"
      },
      "source": [
        "<a href=\"https://colab.research.google.com/github/Hastieiliat/Final-Project/blob/Dave/Crime_Reports.ipynb\" target=\"_parent\"><img src=\"https://colab.research.google.com/assets/colab-badge.svg\" alt=\"Open In Colab\"/></a>"
      ]
    },
    {
      "cell_type": "code",
      "execution_count": 1,
      "metadata": {
        "colab": {
          "base_uri": "https://localhost:8080/"
        },
        "id": "EnWRmpnHNi8k",
        "outputId": "82963c13-f001-4f39-b397-9a4f388dfc6c"
      },
      "outputs": [
        {
          "output_type": "stream",
          "name": "stdout",
          "text": [
            "\r0% [Working]\r            \rHit:1 https://developer.download.nvidia.com/compute/cuda/repos/ubuntu1804/x86_64  InRelease\n",
            "\r0% [Connecting to archive.ubuntu.com (185.125.190.39)] [Waiting for headers] [W\r                                                                               \rGet:2 https://cloud.r-project.org/bin/linux/ubuntu bionic-cran40/ InRelease [3,626 B]\n",
            "\r0% [Connecting to archive.ubuntu.com (185.125.190.39)] [Waiting for headers] [C\r                                                                               \rIgn:3 https://developer.download.nvidia.com/compute/machine-learning/repos/ubuntu1804/x86_64  InRelease\n",
            "\r0% [Connecting to archive.ubuntu.com (185.125.190.39)] [Waiting for headers] [C\r0% [1 InRelease gpgv 1,581 B] [Connecting to archive.ubuntu.com (185.125.190.39\r                                                                               \rHit:4 https://developer.download.nvidia.com/compute/machine-learning/repos/ubuntu1804/x86_64  Release\n",
            "Get:5 http://security.ubuntu.com/ubuntu bionic-security InRelease [88.7 kB]\n",
            "Hit:6 http://ppa.launchpad.net/c2d4u.team/c2d4u4.0+/ubuntu bionic InRelease\n",
            "Hit:7 http://archive.ubuntu.com/ubuntu bionic InRelease\n",
            "Get:8 http://archive.ubuntu.com/ubuntu bionic-updates InRelease [88.7 kB]\n",
            "Hit:9 http://ppa.launchpad.net/cran/libgit2/ubuntu bionic InRelease\n",
            "Hit:11 http://ppa.launchpad.net/deadsnakes/ppa/ubuntu bionic InRelease\n",
            "Get:12 http://archive.ubuntu.com/ubuntu bionic-backports InRelease [74.6 kB]\n",
            "Hit:13 http://ppa.launchpad.net/graphics-drivers/ppa/ubuntu bionic InRelease\n",
            "Get:14 http://security.ubuntu.com/ubuntu bionic-security/main amd64 Packages [2,871 kB]\n",
            "Get:15 http://security.ubuntu.com/ubuntu bionic-security/universe amd64 Packages [1,521 kB]\n",
            "Get:16 http://archive.ubuntu.com/ubuntu bionic-updates/main amd64 Packages [3,302 kB]\n",
            "Get:17 http://archive.ubuntu.com/ubuntu bionic-updates/universe amd64 Packages [2,298 kB]\n",
            "Fetched 10.2 MB in 3s (3,145 kB/s)\n",
            "Reading package lists... Done\n"
          ]
        }
      ],
      "source": [
        "import os\n",
        "# Find the latest version of spark 3.0 from http://www.apache.org/dist/spark/ and enter as the spark version\n",
        "# For example:\n",
        "# spark_version = 'spark-3.0.3'\n",
        "spark_version = 'spark-3.0.3'\n",
        "os.environ['SPARK_VERSION']=spark_version\n",
        "\n",
        "# Install Spark and Java\n",
        "!apt-get update\n",
        "!apt-get install openjdk-11-jdk-headless -qq > /dev/null\n",
        "!wget -q http://www.apache.org/dist/spark/$SPARK_VERSION/$SPARK_VERSION-bin-hadoop2.7.tgz\n",
        "!tar xf $SPARK_VERSION-bin-hadoop2.7.tgz\n",
        "!pip install -q findspark\n",
        "\n",
        "# Set Environment Variables\n",
        "import os\n",
        "os.environ[\"JAVA_HOME\"] = \"/usr/lib/jvm/java-11-openjdk-amd64\"\n",
        "os.environ[\"SPARK_HOME\"] = f\"/content/{spark_version}-bin-hadoop2.7\"\n",
        "\n",
        "# Start a SparkSession\n",
        "import findspark\n",
        "findspark.init()"
      ]
    },
    {
      "cell_type": "code",
      "source": [
        "# Download the Postgres driver that will allow Spark to interact with Postgres.\n",
        "!wget https://jdbc.postgresql.org/download/postgresql-42.2.16.jar"
      ],
      "metadata": {
        "colab": {
          "base_uri": "https://localhost:8080/"
        },
        "id": "LUQWST_6QUmg",
        "outputId": "8f8b943a-dacb-45ff-ff86-025936675a29"
      },
      "execution_count": 2,
      "outputs": [
        {
          "output_type": "stream",
          "name": "stdout",
          "text": [
            "--2022-07-09 16:03:07--  https://jdbc.postgresql.org/download/postgresql-42.2.16.jar\n",
            "Resolving jdbc.postgresql.org (jdbc.postgresql.org)... 72.32.157.228, 2001:4800:3e1:1::228\n",
            "Connecting to jdbc.postgresql.org (jdbc.postgresql.org)|72.32.157.228|:443... connected.\n",
            "HTTP request sent, awaiting response... 200 OK\n",
            "Length: 1002883 (979K) [application/java-archive]\n",
            "Saving to: ‘postgresql-42.2.16.jar’\n",
            "\n",
            "postgresql-42.2.16. 100%[===================>] 979.38K  5.95MB/s    in 0.2s    \n",
            "\n",
            "2022-07-09 16:03:08 (5.95 MB/s) - ‘postgresql-42.2.16.jar’ saved [1002883/1002883]\n",
            "\n"
          ]
        }
      ]
    },
    {
      "cell_type": "code",
      "source": [
        "from pyspark.sql import SparkSession\n",
        "spark = SparkSession.builder.appName(\"M20-Final\").config(\"spark.driver.extraClassPath\",\"/content/postgresql-42.2.16.jar\").getOrCreate()"
      ],
      "metadata": {
        "id": "iNTZCz5HQaU2"
      },
      "execution_count": 3,
      "outputs": []
    },
    {
      "cell_type": "code",
      "source": [
        "from pyspark import SparkFiles\n",
        "url = \"https://crime2021austin.s3.us-east-2.amazonaws.com/crime_updated.csv\"\n",
        "spark.sparkContext.addFile(url)"
      ],
      "metadata": {
        "id": "I5FPxmqCTlde"
      },
      "execution_count": 4,
      "outputs": []
    },
    {
      "cell_type": "code",
      "source": [
        "crime_df = spark.read.csv(SparkFiles.get(\"crime_updated.csv\"), sep=\",\", header=True, inferSchema=True)"
      ],
      "metadata": {
        "id": "wwJLyJpIpwF0"
      },
      "execution_count": 5,
      "outputs": []
    },
    {
      "cell_type": "code",
      "source": [
        "crime_df.show()"
      ],
      "metadata": {
        "colab": {
          "base_uri": "https://localhost:8080/"
        },
        "id": "qoCQdwintM3m",
        "outputId": "06eddceb-76f2-4719-86a4-e9e46d740bcb"
      },
      "execution_count": 7,
      "outputs": [
        {
          "output_type": "stream",
          "name": "stdout",
          "text": [
            "+---------------+---------------------------+-------------+-------------+-----------+-----------+--------+------------+--------------+------------+------------+-----------+------------+\n",
            "|Incident_Number|Highest_Offense_Description|Occurred_Date|Occurred_Time|Report_Date|Report_Time|Zip_Code|Census_Tract|Clearance_Date|X_coordinate|Y_coordinate|   Latitude|   Longitude|\n",
            "+---------------+---------------------------+-------------+-------------+-----------+-----------+--------+------------+--------------+------------+------------+-----------+------------+\n",
            "|2.0213650197E10|       ASSAULT W/INJURY-...|   12/31/2021|          436| 12/31/2021|        436|   78736|       330.0|    12/31/2021|     3066128|     3066128|30.23640862|-97.89627861|\n",
            "|2.0213650632E10|       ASSAULT W/INJURY-...|   12/31/2021|         1223| 12/31/2021|       1223|   78726|       346.0|    12/31/2021|     3081086|     3081086|30.42004712|-97.84416748|\n",
            "|2.0213650144E10|       AGG ASLT STRANGLE...|   12/31/2021|          244| 12/31/2021|        244|   78752|       433.0|    12/31/2021|     3128894|     3128894|30.33388619|-97.69480728|\n",
            "|2.0213651189E10|         FAMILY DISTURBANCE|   12/31/2021|         1933| 12/31/2021|       1933|   78702|         8.0|      1/1/2022|     3119243|     3119243|30.27401815| -97.7270251|\n",
            "|2.0213650916E10|         TERRORISTIC THREAT|   12/31/2021|         1621| 12/31/2021|       1621|   78741|       23.15|    12/31/2021|     3118423|     3118423|30.23364383|-97.73071195|\n",
            "|2.0213650132E10|                      THEFT|   12/31/2021|          331| 12/31/2021|        331|   78748|       24.23|    12/31/2021|     3092495|     3092495|30.18316945|-97.81415224|\n",
            "| 2.021365148E10|       POSS CONTROLLED S...|   12/31/2021|         2253| 12/31/2021|       2357|   78744|       24.11|      1/1/2022|     3111415|     3111415|30.19872886|-97.75384161|\n",
            "|2.0213650146E10|        FAILURE TO IDENTIFY|   12/31/2021|          255| 12/31/2021|        255|   78660|       442.0|    12/31/2021|     3136138|     3136138|30.43203385|-97.66912818|\n",
            "|2.0213651068E10|       ASSAULT W/INJURY-...|   12/31/2021|         2017| 12/31/2021|       2017|   78660|       449.0|      1/4/2022|     3152723|     3152723|30.39225555|-97.61760861|\n",
            "|2.0213651482E10|          CRIMINAL MISCHIEF|   12/31/2021|         2300| 12/31/2021|       2300|   78702|         9.0|      1/3/2022|     3126442|     3126442|30.25870601|-97.70463032|\n",
            "|2.0213651379E10|          CRIMINAL TRESPASS|   12/31/2021|         2149| 12/31/2021|       2149|   78617|        23.1|    12/31/2021|     3143654|     3143654|30.20986553|-97.65145489|\n",
            "| 2.021365018E10|       ASSAULT BY THREAT...|   12/31/2021|          404| 12/31/2021|        404|   78745|        24.0|      1/3/2022|     3106347|     3106347|30.21223442|-97.76952969|\n",
            "|2.0213650464E10|       BURGLARY OF RESID...|   12/31/2021|          953| 12/31/2021|        953|   78741|       23.27|      1/4/2022|     3129542|     3129542|30.23784415|-97.69537876|\n",
            "|2.0213650479E10|       CRIMINAL TRESPASS...|   12/31/2021|         1048| 12/31/2021|       1048|   78702|         8.0|      1/7/2022|     3128500|     3128500|30.26884996|-97.69783319|\n",
            "| 2.021365025E10|       ASSAULT W/INJURY-...|   12/31/2021|          606| 12/31/2021|        606|   78702|         8.0|      1/7/2022|     3122200|     3122200| 30.2749516|-97.71762987|\n",
            "| 2.022500014E10|                 HARASSMENT|   12/31/2021|         1200|   1/3/2022|       1148|   78741|       23.13|      1/3/2022|     3118172|     3118172|30.22160085|-97.73183138|\n",
            "|2.0213650248E10|          CRIMINAL MISCHIEF|   12/31/2021|          604| 12/31/2021|        604|   78704|        13.1|      1/3/2022|     3108100|     3108100|30.25247359|-97.76290776|\n",
            "|2.0213650789E10|         FAMILY DISTURBANCE|   12/31/2021|         1435| 12/31/2021|       1435|   78741|       23.21|      1/4/2022|     3130765|     3130765|30.23469943|-97.69159085|\n",
            "|2.0213651242E10|       ASSAULT BY CONTAC...|   12/31/2021|         2013| 12/31/2021|       2039|   78753|       437.0|      1/4/2022|     3135985|     3135985|30.39438783|-97.67065387|\n",
            "|2.0225000426E10|        BURGLARY OF VEHICLE|   12/31/2021|         2200|   1/5/2022|       1708|   78758|       454.0|      1/6/2022|     3118246|     3118246|30.40168382|-97.72673719|\n",
            "+---------------+---------------------------+-------------+-------------+-----------+-----------+--------+------------+--------------+------------+------------+-----------+------------+\n",
            "only showing top 20 rows\n",
            "\n"
          ]
        }
      ]
    }
  ]
}